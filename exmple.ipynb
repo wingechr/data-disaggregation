{
 "cells": [
  {
   "attachments": {},
   "cell_type": "markdown",
   "metadata": {},
   "source": [
    "## General principles\n",
    "\n",
    "Conceptually, aggregation/disaggregation operations are\n",
    "\n",
    "* start with *indexed data* (index can be multidimensional)\n",
    "* use a *weight map* to map data to a new (multidimensional) index.\n",
    "* group values for each unique in the new index and use a *weighted aggregation*, \n",
    "* which depends on the *variable type*, e.g.nominal, ordinal, numerical (intensive, extensive)\n"
   ]
  },
  {
   "cell_type": "code",
   "execution_count": null,
   "metadata": {},
   "outputs": [],
   "source": [
    "## Examples Using pandas\n",
    "\n",
    "# although not required, we use pandas Series for data and weights using named Index/MultiIndex \n",
    "# We start by setting up some dimensions (2 spatial, 1 temporal) using named Index\n",
    "\n",
    "from pandas import Series, Index, MultiIndex\n",
    "from data_disaggregation import VT_Numeric, VT_NumericExt\n",
    "\n",
    "dim_region = Index([\"r1\", \"r2\"], name=\"region\")\n",
    "dim_subregion = Index([\"r11\", \"r12\", \"r21\", \"r22\"], name=\"subregion\")\n",
    "dim_time = Index([\"t1\", \"t2\", \"t3\"], name=\"time\")\n",
    "\n",
    "# We can use MultiIndex to create cross products:\n",
    "\n",
    "dim_region_subregion = MultiIndex.from_product([dim_region, dim_subregion])\n",
    "dim_region_time = MultiIndex.from_product([dim_region, dim_time])\n",
    "dim_region_time"
   ]
  },
  {
   "cell_type": "code",
   "execution_count": null,
   "metadata": {},
   "outputs": [],
   "source": [
    "# now we create Series for data and weights (which also includes relationships between dimensions)\n",
    "# using a value of 1 here because all the subregions have the same weight relatively\n",
    "w_region_subregion = Series({(\"r1\", \"r11\"): 1, (\"r1\", \"r12\"): 1, (\"r2\", \"r21\"): 1, (\"r2\", \"r22\"): 1}, index=dim_region_subregion)\n",
    "\n",
    "# define some data on the regional level\n",
    "d_region = Series({\"r1\": 100, \"r2\": 200}, index=dim_region)\n",
    "\n",
    "# use extensive disaggregation:\n",
    "d_subregion = VT_NumericExt.disagg(d_region, w_region_subregion)\n",
    "d_subregion"
   ]
  },
  {
   "cell_type": "code",
   "execution_count": null,
   "metadata": {},
   "outputs": [],
   "source": [
    "# applying the same weight map aggregates it back.\n",
    "VT_NumericExt.disagg(d_subregion, w_region_subregion)"
   ]
  },
  {
   "cell_type": "code",
   "execution_count": null,
   "metadata": {},
   "outputs": [],
   "source": [
    "# using Intensive distribution, the values for the regions in the disaggregation are duplicated\n",
    "VT_Numeric.disagg(d_subregion, w_region_subregion)"
   ]
  },
  {
   "cell_type": "code",
   "execution_count": null,
   "metadata": {},
   "outputs": [],
   "source": [
    "# distribute over a new dimension (time)\n",
    "s_time = Series({\"t1\": 2, \"t2\": 3, \"t3\": 5}, index=dim_time)\n",
    "VT_NumericExt.disagg(d_region, s_time, dim_region_time)"
   ]
  },
  {
   "cell_type": "code",
   "execution_count": null,
   "metadata": {},
   "outputs": [],
   "source": [
    "# what about scalar\n",
    "VT_NumericExt.disagg(100, s_time)"
   ]
  },
  {
   "cell_type": "code",
   "execution_count": null,
   "metadata": {},
   "outputs": [],
   "source": []
  }
 ],
 "metadata": {
  "kernelspec": {
   "display_name": "Python 3",
   "language": "python",
   "name": "python3"
  },
  "language_info": {
   "codemirror_mode": {
    "name": "ipython",
    "version": 3
   },
   "file_extension": ".py",
   "mimetype": "text/x-python",
   "name": "python",
   "nbconvert_exporter": "python",
   "pygments_lexer": "ipython3",
   "version": "3.10.0"
  },
  "orig_nbformat": 4
 },
 "nbformat": 4,
 "nbformat_minor": 2
}
