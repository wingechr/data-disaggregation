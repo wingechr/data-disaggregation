{
 "cells": [
  {
   "attachments": {},
   "cell_type": "markdown",
   "metadata": {},
   "source": [
    "# Examples"
   ]
  },
  {
   "cell_type": "markdown",
   "metadata": {},
   "source": [
    "### Basic transformation"
   ]
  },
  {
   "cell_type": "code",
   "execution_count": 17,
   "metadata": {},
   "outputs": [],
   "source": [
    "from data_disaggregation.actions import transform\n",
    "from data_disaggregation.vtypes import VT_Nominal, VT_NumericExt, VT_Numeric, VT_Ordinal"
   ]
  },
  {
   "cell_type": "code",
   "execution_count": 18,
   "metadata": {},
   "outputs": [],
   "source": [
    "# create data (key-values)\n",
    "data = {\n",
    "    \"a\": 5,\n",
    "    \"b\": 10,\n",
    "    \"c\": 30\n",
    "}\n",
    "\n",
    "# create weight mapping\n",
    "weights = {    \n",
    "    (\"b\", \"D\"): 0.7,\n",
    "    (\"c\", \"E\"): 0.7,\n",
    "    (\"a\", \"F\"): 0.4,\n",
    "    (\"b\", \"F\"): 0.3,\n",
    "    (\"c\", \"F\"): 0.3,\n",
    "}"
   ]
  },
  {
   "cell_type": "code",
   "execution_count": 19,
   "metadata": {},
   "outputs": [
    {
     "data": {
      "text/plain": [
       "{'F': 5, 'E': 30, 'D': 10}"
      ]
     },
     "execution_count": 19,
     "metadata": {},
     "output_type": "execute_result"
    }
   ],
   "source": [
    "# if data as categorical/nominal:\n",
    "# \"F\" is 5 because \"a\" has largest share 0.4 (mode)\n",
    "transform(VT_Nominal, data, weights)"
   ]
  },
  {
   "cell_type": "code",
   "execution_count": 20,
   "metadata": {},
   "outputs": [
    {
     "data": {
      "text/plain": [
       "{'F': 10, 'E': 30, 'D': 10}"
      ]
     },
     "execution_count": 20,
     "metadata": {},
     "output_type": "execute_result"
    }
   ],
   "source": [
    "# if data as categorical/ordinal:\n",
    "# \"F\" is 10 because \"b\" has cumulative share (sum of shares <= \"b\") 0.4 + 0.3 = 0.7 \n",
    "# that is covering midpoint 0.5\n",
    "transform(VT_Ordinal, data, weights)"
   ]
  },
  {
   "cell_type": "code",
   "execution_count": 21,
   "metadata": {},
   "outputs": [
    {
     "data": {
      "text/plain": [
       "{'F': 14.0, 'E': 30.0, 'D': 10.0}"
      ]
     },
     "execution_count": 21,
     "metadata": {},
     "output_type": "execute_result"
    }
   ],
   "source": [
    "# if data is numerical/intensive\n",
    "# average (weighted) density\n",
    "# D = 10 * 0.7 / 0.7\n",
    "# E = 30 * 0.7 / 0.7\n",
    "# F = (10 * 0.3 + 30 * 0.3 + 5 * 0.4) / 1.0\n",
    "transform(VT_Numeric, data, weights)"
   ]
  },
  {
   "cell_type": "code",
   "execution_count": 22,
   "metadata": {},
   "outputs": [
    {
     "data": {
      "text/plain": [
       "{'F': 17.0, 'E': 21.0, 'D': 7.0}"
      ]
     },
     "execution_count": 22,
     "metadata": {},
     "output_type": "execute_result"
    }
   ],
   "source": [
    "# if data is numerical/extensive\n",
    "# redistribute total sum of 45 according to (relative) shares:\n",
    "# D = 10 * 0.7 / 1.0\n",
    "# E = 30 * 0.7 / 1.0\n",
    "# F = 10 * (0.3 / 1.0) + 30 * (0.3 / 1.0) + 5 * (0.4 / 0.4)\n",
    "transform(VT_NumericExt, data, weights)"
   ]
  },
  {
   "cell_type": "markdown",
   "metadata": {},
   "source": [
    "### Basic transformation with pandas"
   ]
  },
  {
   "cell_type": "code",
   "execution_count": 23,
   "metadata": {},
   "outputs": [],
   "source": [
    "import pandas as pd\n",
    "from data_disaggregation.actions import transform_pandas\n",
    "from data_disaggregation.vtypes import VT_Nominal, VT_NumericExt, VT_Numeric, VT_Ordinal"
   ]
  },
  {
   "cell_type": "code",
   "execution_count": 24,
   "metadata": {},
   "outputs": [
    {
     "data": {
      "text/plain": [
       "dim_from\n",
       "a     5\n",
       "b    10\n",
       "c    30\n",
       "dtype: int64"
      ]
     },
     "execution_count": 24,
     "metadata": {},
     "output_type": "execute_result"
    }
   ],
   "source": [
    "# data as pandas series (with named index)\n",
    "ds_data = pd.Series(data).rename_axis(index=\"dim_from\")\n",
    "ds_data"
   ]
  },
  {
   "cell_type": "code",
   "execution_count": 25,
   "metadata": {},
   "outputs": [
    {
     "data": {
      "text/plain": [
       "dim_from  dim_to\n",
       "b         D         0.7\n",
       "c         E         0.7\n",
       "a         F         0.4\n",
       "b         F         0.3\n",
       "c         F         0.3\n",
       "dtype: float64"
      ]
     },
     "execution_count": 25,
     "metadata": {},
     "output_type": "execute_result"
    }
   ],
   "source": [
    "# weights as pandas series (with named indices)\n",
    "ds_weights = pd.Series(weights).rename_axis(index=[\"dim_from\", \"dim_to\"])\n",
    "ds_weights"
   ]
  },
  {
   "cell_type": "code",
   "execution_count": 26,
   "metadata": {},
   "outputs": [
    {
     "data": {
      "text/plain": [
       "dim_to\n",
       "D         10\n",
       "E         30\n",
       "F          5\n",
       "Name: 0, dtype: int64"
      ]
     },
     "execution_count": 26,
     "metadata": {},
     "output_type": "execute_result"
    }
   ],
   "source": [
    "# if data as categorical/nominal:\n",
    "# \"F\" is 5 because \"a\" has largest share 0.4 (mode)\n",
    "transform_pandas(VT_Nominal, ds_data, ds_weights)"
   ]
  },
  {
   "cell_type": "code",
   "execution_count": 27,
   "metadata": {},
   "outputs": [
    {
     "data": {
      "text/plain": [
       "dim_to\n",
       "D         10\n",
       "E         30\n",
       "F         10\n",
       "Name: 0, dtype: int64"
      ]
     },
     "execution_count": 27,
     "metadata": {},
     "output_type": "execute_result"
    }
   ],
   "source": [
    "# if data as categorical/ordinal:\n",
    "# \"F\" is 10 because \"b\" has cumulative share (sum of shares <= \"b\") 0.4 + 0.3 = 0.7 \n",
    "# that is covering midpoint 0.5\n",
    "transform_pandas(VT_Ordinal, ds_data, ds_weights)"
   ]
  },
  {
   "cell_type": "code",
   "execution_count": 28,
   "metadata": {},
   "outputs": [
    {
     "data": {
      "text/plain": [
       "dim_to\n",
       "D         10.0\n",
       "E         30.0\n",
       "F         14.0\n",
       "Name: 0, dtype: float64"
      ]
     },
     "execution_count": 28,
     "metadata": {},
     "output_type": "execute_result"
    }
   ],
   "source": [
    "# if data is numerical/intensive\n",
    "# average (weighted) density\n",
    "# D = 10 * 0.7 / 0.7\n",
    "# E = 30 * 0.7 / 0.7\n",
    "# F = (10 * 0.3 + 30 * 0.3 + 5 * 0.4) / 1.0\n",
    "transform_pandas(VT_Numeric, ds_data, ds_weights)"
   ]
  },
  {
   "cell_type": "code",
   "execution_count": 29,
   "metadata": {},
   "outputs": [
    {
     "data": {
      "text/plain": [
       "dim_to\n",
       "D          7.0\n",
       "E         21.0\n",
       "F         17.0\n",
       "Name: 0, dtype: float64"
      ]
     },
     "execution_count": 29,
     "metadata": {},
     "output_type": "execute_result"
    }
   ],
   "source": [
    "# if data is numerical/extensive\n",
    "# redistribute total sum of 45 according to (relative) shares:\n",
    "# D = 10 * 0.7 / 1.0\n",
    "# E = 30 * 0.7 / 1.0\n",
    "# F = 10 * (0.3 / 1.0) + 30 * (0.3 / 1.0) + 5 * (0.4 / 0.4)\n",
    "transform_pandas(VT_NumericExt, ds_data, ds_weights)"
   ]
  },
  {
   "cell_type": "markdown",
   "metadata": {},
   "source": [
    "## change output dimensions\n",
    "\n",
    "Sometimes we need to keep some of the origial index dimensions.\n",
    "In this case we we have to specify the desired output dimension index explicitly"
   ]
  },
  {
   "cell_type": "code",
   "execution_count": 30,
   "metadata": {},
   "outputs": [
    {
     "data": {
      "text/plain": [
       "dim_from  dim_to\n",
       "a         F          5.0\n",
       "b         D          7.0\n",
       "          F          3.0\n",
       "c         E         21.0\n",
       "          F          9.0\n",
       "Name: 0, dtype: float64"
      ]
     },
     "execution_count": 30,
     "metadata": {},
     "output_type": "execute_result"
    }
   ],
   "source": [
    "idx_out = ds_weights.index\n",
    "transform_pandas(VT_NumericExt, ds_data, ds_weights, dim_out=idx_out)"
   ]
  },
  {
   "cell_type": "code",
   "execution_count": null,
   "metadata": {},
   "outputs": [],
   "source": []
  }
 ],
 "metadata": {
  "kernelspec": {
   "display_name": ".venv",
   "language": "python",
   "name": "python3"
  },
  "language_info": {
   "codemirror_mode": {
    "name": "ipython",
    "version": 3
   },
   "file_extension": ".py",
   "mimetype": "text/x-python",
   "name": "python",
   "nbconvert_exporter": "python",
   "pygments_lexer": "ipython3",
   "version": "3.10.0"
  },
  "orig_nbformat": 4
 },
 "nbformat": 4,
 "nbformat_minor": 2
}
