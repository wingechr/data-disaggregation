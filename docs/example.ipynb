{
 "cells": [
  {
   "cell_type": "markdown",
   "metadata": {},
   "source": [
    "# Example Notebook"
   ]
  },
  {
   "cell_type": "code",
   "execution_count": null,
   "metadata": {},
   "outputs": [],
   "source": [
    "from data_disaggregation import Dimension, ExtensiveVariable\n",
    "from data_disaggregation.draw import draw_transform, draw_domain\n",
    "from IPython.display import Image"
   ]
  },
  {
   "cell_type": "code",
   "execution_count": null,
   "metadata": {},
   "outputs": [],
   "source": [
    "# create dimension hierarchies\n",
    "\n",
    "time = Dimension(\"time\")\n",
    "hour = time.add_level(\"hour\", [1, 2, 3])\n",
    "\n",
    "space = Dimension(\"space\")\n",
    "region = space.add_level(\"region\", [\"r1\", \"r2\"])\n",
    "subregion = region.add_level(\"subregion\", {\"r1\": [\"sr1_1\", \"sr1_2\"], \"r2\": [\"sr2_1\"]})\n",
    "\n",
    "sector = Dimension(\"sector\")\n",
    "sector_a = sector.add_level(\"sector_a\", [\"sa1\", \"sa2\"])\n",
    "sector_b = sector.add_level(\"sector_b\", [\"sb1\", \"sb2\", \"sb3\"])\n",
    "\n",
    "# create extensive variables\n",
    "\n",
    "v1 = ExtensiveVariable(\n",
    "    data={\n",
    "        (\"sr1_1\", \"sa1\"): 2,\n",
    "        (\"sr1_2\", \"sa1\"): 3,\n",
    "        (\"sr1_2\", \"sa1\"): 4,\n",
    "        (\"sr2_1\", \"sa2\"): 5,\n",
    "    },\n",
    "    domain=[subregion, sector_a],\n",
    ")\n",
    "\n",
    "v2 = ExtensiveVariable(\n",
    "    data={\"sb1\": 1, \"sb2\": 4, \"sb3\": 5},\n",
    "    domain=[sector_b],\n",
    ")\n",
    "\n",
    "v3 = ExtensiveVariable(\n",
    "    data={1: 3, 2: 3, 3: 4},\n",
    "    domain=[hour],\n",
    ")"
   ]
  },
  {
   "cell_type": "code",
   "execution_count": null,
   "metadata": {},
   "outputs": [],
   "source": [
    "# show series\n",
    "v1.to_series().to_frame()"
   ]
  },
  {
   "cell_type": "code",
   "execution_count": null,
   "metadata": {},
   "outputs": [],
   "source": [
    "# show image for domain\n",
    "Image(draw_domain(v1, filetype=\"png\"))"
   ]
  },
  {
   "cell_type": "code",
   "execution_count": null,
   "metadata": {},
   "outputs": [],
   "source": [
    "# transform to target dimension\n",
    "target = {\"domain\": [sector_a, hour], \"level_weights\": {\"sector_b\": v2, \"hour\": v3}}\n",
    "v4 = v1.transform(**target)"
   ]
  },
  {
   "cell_type": "code",
   "execution_count": null,
   "metadata": {},
   "outputs": [],
   "source": [
    "# as series\n",
    "v4.to_series().to_frame()"
   ]
  },
  {
   "cell_type": "code",
   "execution_count": null,
   "metadata": {},
   "outputs": [],
   "source": [
    "# show image for transformation\n",
    "steps = v1.get_transform_steps(**target)\n",
    "Image(draw_transform(steps, filetype=\"png\"))"
   ]
  },
  {
   "cell_type": "code",
   "execution_count": null,
   "metadata": {},
   "outputs": [],
   "source": [
    "# show image for result domain\n",
    "Image(draw_domain(v4, filetype=\"png\"))"
   ]
  }
 ],
 "metadata": {
  "interpreter": {
   "hash": "0592cfed724c34495ce9b9c3b512fc38b38d6c163ee8443c9c318f9382db67f2"
  },
  "kernelspec": {
   "display_name": "Python 3.10.0 64-bit (system)",
   "name": "python3"
  },
  "language_info": {
   "codemirror_mode": {
    "name": "ipython",
    "version": 3
   },
   "file_extension": ".py",
   "mimetype": "text/x-python",
   "name": "python",
   "nbconvert_exporter": "python",
   "pygments_lexer": "ipython3",
   "version": "3.10.0"
  },
  "orig_nbformat": 4
 },
 "nbformat": 4,
 "nbformat_minor": 2
}
