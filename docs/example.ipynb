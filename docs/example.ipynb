{
 "cells": [
  {
   "cell_type": "markdown",
   "metadata": {},
   "source": [
    "# Example Notebook"
   ]
  },
  {
   "cell_type": "code",
   "execution_count": 1,
   "metadata": {},
   "outputs": [],
   "source": [
    "import pandas as pd\n",
    "from IPython.display import Image\n",
    "from data_disaggregation import transform"
   ]
  },
  {
   "cell_type": "code",
   "execution_count": 2,
   "metadata": {},
   "outputs": [],
   "source": [
    "# we start with a single value for the country\n",
    "v = 120\n",
    "\n",
    "# the country consists of 3 regions of differenz size\n",
    "reg_size = pd.Series({\"r1\": 2, \"r2\": 3, \"r3\": 5}).rename_axis(index=\"reg\")\n",
    "\n",
    "# distribute value via size\n",
    "reg_v = transform(v, reg_size)\n",
    "\n",
    "# regions are subdivided into subregions, and we have data of\n",
    "# population for each intersection\n",
    "subreg_reg_pop = pd.Series(\n",
    "    {\n",
    "        (\"r1\", \"sr1a\"): 2,\n",
    "        (\"r1\", \"sr1b\"): 2,\n",
    "        (\"r2\", \"sr2a\"): 3,\n",
    "        (\"r3\", \"sr3a\"): 1,\n",
    "        (\"r3\", \"sr3b\"): 2,\n",
    "        (\"r3\", \"sr3c\"): 3,\n",
    "    }\n",
    ").rename_axis(index=[\"reg\", \"subreg\"])\n",
    "\n",
    "# use population to further subdivide\n",
    "subreg_v = transform(reg_v, subreg_reg_pop)\n",
    "\n",
    "subreg = pd.Series(\n",
    "    1,\n",
    "    index=pd.Index(\n",
    "        [\"sr1a\", \"sr1b\", \"sr2a\", \"sr3a\", \"sr3b\", \"sr3c\"], name=\"subreg\"\n",
    "    ),\n",
    ")\n",
    "v2 = transform(subreg_v, subreg)"
   ]
  }
 ],
 "metadata": {
  "kernelspec": {
   "display_name": "Python 3.10.0 64-bit (system)",
   "language": "python",
   "name": "python3"
  },
  "language_info": {
   "codemirror_mode": {
    "name": "ipython",
    "version": 3
   },
   "file_extension": ".py",
   "mimetype": "text/x-python",
   "name": "python",
   "nbconvert_exporter": "python",
   "pygments_lexer": "ipython3",
   "version": "3.10.0"
  },
  "orig_nbformat": 4,
  "vscode": {
   "interpreter": {
    "hash": "4cc28339ebe3ffe1b3e1ed6eb24efeceff46af584d3dccc57bf54e85dc6e2e19"
   }
  }
 },
 "nbformat": 4,
 "nbformat_minor": 2
}
