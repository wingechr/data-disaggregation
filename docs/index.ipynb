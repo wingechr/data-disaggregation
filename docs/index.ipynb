{
 "cells": [
  {
   "attachments": {},
   "cell_type": "markdown",
   "metadata": {},
   "source": [
    "# Theory\n",
    "\n",
    "Conceptually, aggregation/disaggregation operations are\n",
    "\n",
    "* start with *indexed data* (index can be multidimensional)\n",
    "* use a *weight map* to map data to a new (multidimensional) index. Each key is a pair of (old index, new index).\n",
    "* group values for each unique in the new index and use a *weighted aggregation*, which depends on the *variable type*, e.g.nominal, ordinal, numerical (intensive, extensive)\n"
   ]
  },
  {
   "cell_type": "code",
   "execution_count": 1,
   "metadata": {},
   "outputs": [],
   "source": [
    "from pandas import Series, Index, MultiIndex\n",
    "from data_disaggregation import transform, create_weight_map,  VT_Numeric, VT_NumericExt"
   ]
  },
  {
   "attachments": {},
   "cell_type": "markdown",
   "metadata": {},
   "source": [
    "To make the creation of the *weight map* easier, we create it from pandas Series:\n",
    "\n",
    "* if we don't specify the output dimensions, we use dims(weights) - dims(input)\n",
    "* we create a cross product of all the (unique) input and output dimemnsions\n",
    "* we join the weight on all the applicaple dimensions (so the weights dimensions must be a nonempty subset of the other dimensions)\n"
   ]
  },
  {
   "attachments": {},
   "cell_type": "markdown",
   "metadata": {},
   "source": [
    "Note: for aggregation of extensive data, the weight value doe not really matter, but it does for intensive data. For disaggregation, it's the other way round."
   ]
  },
  {
   "cell_type": "code",
   "execution_count": null,
   "metadata": {},
   "outputs": [],
   "source": []
  }
 ],
 "metadata": {
  "kernelspec": {
   "display_name": "Python 3",
   "language": "python",
   "name": "python3"
  },
  "language_info": {
   "codemirror_mode": {
    "name": "ipython",
    "version": 3
   },
   "file_extension": ".py",
   "mimetype": "text/x-python",
   "name": "python",
   "nbconvert_exporter": "python",
   "pygments_lexer": "ipython3",
   "version": "3.10.0"
  },
  "orig_nbformat": 4
 },
 "nbformat": 4,
 "nbformat_minor": 2
}
