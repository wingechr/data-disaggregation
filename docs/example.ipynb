{
 "cells": [
  {
   "cell_type": "markdown",
   "metadata": {},
   "source": [
    "# Example Notebook"
   ]
  },
  {
   "cell_type": "code",
   "execution_count": null,
   "metadata": {},
   "outputs": [],
   "source": [
    "from data_disaggregation import Dimension, ExtensiveVariable\n",
    "from data_disaggregation.draw import draw_transform, draw_domain, notebook_display_image_bytes\n",
    "\n",
    "# create dimension hierarchies\n",
    "\n",
    "time = Dimension(\"time\")\n",
    "hour = time.add_level(\"hour\", \n",
    "    [1, 2, 3]\n",
    ")\n",
    "\n",
    "space = Dimension(\"space\")\n",
    "region = space.add_level(\"region\", \n",
    "    [\"r1\", \"r2\"]\n",
    ")\n",
    "subregion = region.add_level(\"subregion\", {\n",
    "    \"r1\": [\"sr1_1\", \"sr1_2\"], \n",
    "    \"r2\": [\"sr2_1\"]\n",
    "})\n",
    "\n",
    "sector = Dimension(\"sector\")\n",
    "sector_a = sector.add_level(\"sector_a\", \n",
    "    [\"sa1\", \"sa2\"]\n",
    ")\n",
    "sector_b = sector.add_level(\"sector_b\", \n",
    "    [\"sb1\", \"sb2\", \"sb3\"]\n",
    ")\n",
    "\n",
    "# create extensive variables\n",
    "\n",
    "v1 = ExtensiveVariable(\n",
    "    name=\"v1\",\n",
    "    data={\n",
    "        (\"sr1_1\", \"sa1\"): 2,\n",
    "        (\"sr1_2\", \"sa1\"): 3,\n",
    "        (\"sr1_2\", \"sa1\"): 4,\n",
    "        (\"sr2_1\", \"sa2\"): 5,\n",
    "    },\n",
    "    domain=[subregion, sector_a]    \n",
    ")\n",
    "\n",
    "v2 = ExtensiveVariable(\n",
    "    name=\"v2\",\n",
    "    data={\n",
    "        \"sb1\": 1,\n",
    "        \"sb2\": 4,\n",
    "        \"sb3\": 5\n",
    "    },\n",
    "    domain=[sector_b],\n",
    ")\n",
    "\n",
    "v3 = ExtensiveVariable(\n",
    "    name=\"v3\",\n",
    "    data={\n",
    "        1: 3,\n",
    "        2: 3,\n",
    "        3: 4\n",
    "    },\n",
    "    domain=[hour],\n",
    ")"
   ]
  },
  {
   "cell_type": "code",
   "execution_count": null,
   "metadata": {},
   "outputs": [],
   "source": [
    "# show series\n",
    "v1.to_series().to_frame()"
   ]
  },
  {
   "cell_type": "code",
   "execution_count": null,
   "metadata": {},
   "outputs": [],
   "source": [
    "# show image for transformation\n",
    "notebook_display_image_bytes(draw_domain(v1))"
   ]
  },
  {
   "cell_type": "code",
   "execution_count": null,
   "metadata": {},
   "outputs": [],
   "source": [
    "# transform to target dimension\n",
    "target = {\n",
    "    \"domain\": [sector_a, hour],\n",
    "    \"level_weights\": {\"sector_b\": v2, \"hour\": v3}\n",
    "}\n",
    "\n",
    "v4 = v1.transform(**target)"
   ]
  },
  {
   "cell_type": "code",
   "execution_count": null,
   "metadata": {},
   "outputs": [],
   "source": [
    "# as series\n",
    "v4.to_series().to_frame()"
   ]
  },
  {
   "cell_type": "code",
   "execution_count": null,
   "metadata": {},
   "outputs": [],
   "source": [
    "# show image for transformation\n",
    "steps = v1.get_transform_steps(**target)\n",
    "notebook_display_image_bytes(draw_transform(steps, dpi=100))"
   ]
  },
  {
   "cell_type": "code",
   "execution_count": null,
   "metadata": {},
   "outputs": [],
   "source": [
    "# show image for transformation\n",
    "notebook_display_image_bytes(draw_domain(v4))"
   ]
  }
 ],
 "metadata": {
  "interpreter": {
   "hash": "0592cfed724c34495ce9b9c3b512fc38b38d6c163ee8443c9c318f9382db67f2"
  },
  "kernelspec": {
   "display_name": "Python 3.10.0 64-bit (system)",
   "name": "python3"
  },
  "language_info": {
   "codemirror_mode": {
    "name": "ipython",
    "version": 3
   },
   "file_extension": ".py",
   "mimetype": "text/x-python",
   "name": "python",
   "nbconvert_exporter": "python",
   "pygments_lexer": "ipython3",
   "version": "3.10.0"
  },
  "orig_nbformat": 4
 },
 "nbformat": 4,
 "nbformat_minor": 2
}
